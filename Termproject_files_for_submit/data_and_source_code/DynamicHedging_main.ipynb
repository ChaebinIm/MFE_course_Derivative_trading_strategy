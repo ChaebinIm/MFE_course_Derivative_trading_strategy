{
 "cells": [
  {
   "cell_type": "markdown",
   "metadata": {},
   "source": [
    "## [Module Import]"
   ]
  },
  {
   "cell_type": "code",
   "execution_count": 1,
   "metadata": {},
   "outputs": [],
   "source": [
    "import numpy as np\n",
    "import pandas as pd\n",
    "from datetime import datetime\n",
    "import matplotlib.pyplot as plt\n",
    "import scipy.stats as ss\n",
    "from IPython.core.interactiveshell import InteractiveShell\n",
    "InteractiveShell.ast_node_interactivity = \"all\"\n",
    "import scipy.stats as stat\n",
    "import warnings\n",
    "warnings.filterwarnings(action='ignore')"
   ]
  },
  {
   "cell_type": "markdown",
   "metadata": {},
   "source": [
    "## [Functions]"
   ]
  },
  {
   "cell_type": "code",
   "execution_count": 2,
   "metadata": {},
   "outputs": [],
   "source": [
    "def d1(s,k,r,q,sigma,tau):\n",
    "    return (np.log(s/k) + (r-q+(sigma**2)/2)*tau) / (sigma*np.sqrt(tau))"
   ]
  },
  {
   "cell_type": "code",
   "execution_count": 3,
   "metadata": {},
   "outputs": [],
   "source": [
    "def d2(s,k,r,q,sigma,tau):\n",
    "    return d1(s,k,r,q,sigma,tau) - sigma*np.sqrt(tau)"
   ]
  },
  {
   "cell_type": "code",
   "execution_count": 4,
   "metadata": {},
   "outputs": [],
   "source": [
    "def delta(s,k,r,q,sigma,tau):\n",
    "    return ss.norm.cdf(d1(s,k,r,q,sigma,tau))"
   ]
  },
  {
   "cell_type": "code",
   "execution_count": 5,
   "metadata": {},
   "outputs": [],
   "source": [
    "def modified_delta(s,k,r,q,sigma,tau,delta_u, w_up, w_down):\n",
    "    \n",
    "    current_call_price = calloptionPrice(s,k,r,q,sigma,tau)\n",
    "    \n",
    "    if 0<= delta_u < 1:\n",
    "        up_call_price = calloptionPrice(s+s*delta_u,k,r,q,sigma,tau)\n",
    "        down_call_price = calloptionPrice(s-s*delta_u,k,r,q,sigma,tau)\n",
    "        \n",
    "    elif delta_u >= 1:\n",
    "        up_call_price = calloptionPrice(s+s,k,r,q,sigma,tau)\n",
    "        down_call_price = calloptionPrice(s-s,k,r,q,sigma,tau)\n",
    "        \n",
    "    else:\n",
    "        up_call_price = 0\n",
    "        down_call_price = 0\n",
    "        print(\"wrong delta\")\n",
    "    \n",
    "    \n",
    "    up_delta = (up_call_price - current_call_price)/(s*delta_u)\n",
    "    down_delta =(current_call_price - down_call_price)/(s*delta_u)\n",
    "    \n",
    "    return w_up*up_delta + w_down*down_delta"
   ]
  },
  {
   "cell_type": "code",
   "execution_count": 6,
   "metadata": {},
   "outputs": [],
   "source": [
    "def gamma(S, K, r, T, sigma):\n",
    "    d1 = (np.log(S/K) + (r + 0.5 * (sigma ** 2)) * T) / (sigma * np.sqrt(T))    \n",
    "    return stat.norm.pdf(d1) / (sigma * S * np.sqrt(T))"
   ]
  },
  {
   "cell_type": "code",
   "execution_count": 7,
   "metadata": {},
   "outputs": [],
   "source": [
    "def calloptionPrice(s,k,r,q,sigma,tau):\n",
    "    return s*np.exp(-q*tau)*ss.norm.cdf(d1(s,k,r,q,sigma,tau)) - k*np.exp(-r*tau)*ss.norm.cdf(d2(s,k,r,q,sigma,tau))"
   ]
  },
  {
   "cell_type": "markdown",
   "metadata": {},
   "source": [
    "## [Dynamic Hedging 함수]"
   ]
  },
  {
   "cell_type": "code",
   "execution_count": 8,
   "metadata": {
    "collapsed": true
   },
   "outputs": [
    {
     "data": {
      "text/plain": [
       "'\\n### Main Parameter Discription ###\\n\\n1. simul_or_real: \\n    -simul : Simulated Path에 대한 각 Rebalancing 전략별 Dynamic Hedge Performance 측정\\n    -real : 실제 주식 Path에 대한 각 Rebalancing 전략별 Dynamic Hedge Performance 측정\\n\\n2. long_or_short:\\n    -long : Call Option long position에 대한 Dynamic Hedging\\n    -short: Call Option short position에 대한 Dynamic Hedging\\n    \\n3. delta_strategy(세부내용 Report 참조)\\n    -BSM\\n    -Modified_max_gamma_ratio\\n    -Momentum\\n    -Trigger\\n    -Sigma_Trigger\\n    -Sigma_Trigger_delta\\n\\n4. vol_type:\\n    -constant : 직전 6개월 Vol. 고정\\n    -historical : 직전 6개월 Vol. rolling by 1 month\\n    -IV : 직전 6개월 Implied Vol. 고정 (15% Theoretical Edge 반영)\\n'"
      ]
     },
     "execution_count": 8,
     "metadata": {},
     "output_type": "execute_result"
    }
   ],
   "source": [
    "\"\"\"\n",
    "### Main Parameter Discription ###\n",
    "\n",
    "1. simul_or_real: \n",
    "    -simul : Simulated Path에 대한 각 Rebalancing 전략별 Dynamic Hedge Performance 측정\n",
    "    -real : 실제 주식 Path에 대한 각 Rebalancing 전략별 Dynamic Hedge Performance 측정\n",
    "\n",
    "2. long_or_short:\n",
    "    -long : Call Option long position에 대한 Dynamic Hedging\n",
    "    -short: Call Option short position에 대한 Dynamic Hedging\n",
    "    \n",
    "3. delta_strategy(세부내용 Report 참조)\n",
    "    -BSM\n",
    "    -Modified_max_gamma_ratio\n",
    "    -Momentum\n",
    "    -Trigger\n",
    "    -Sigma_Trigger\n",
    "    -Sigma_Trigger_delta\n",
    "\n",
    "4. vol_type:\n",
    "    -constant : 직전 6개월 Vol. 고정\n",
    "    -historical : 직전 6개월 Vol. rolling by 1 month\n",
    "    -IV : 직전 6개월 Implied Vol. 고정 (15% Theoretical Edge 반영)\n",
    "\"\"\""
   ]
  },
  {
   "cell_type": "code",
   "execution_count": 9,
   "metadata": {},
   "outputs": [],
   "source": [
    "def DynamicHedging(simul_or_real,long_or_short, delta_strategy, vol_type ,s0, mu, k, r, q, sigma, T, \n",
    "                              numOfCall, timeBtwHedgeRebal, sim_num, stock_name=\"s\", atm_threshold_ratio = 0.1):\n",
    "    \n",
    "    global vol_dict\n",
    "    \n",
    "    if long_or_short != 'long' and long_or_short != 'short':\n",
    "        print('input parameter \"long_or_short\" must be \"long\" or \"short\"!')\n",
    "        return\n",
    "    \n",
    "    np.random.seed(1233)\n",
    "\n",
    "    \n",
    "    # Simulation 인지 Real 주가 Path 인지에 따라 변수 조정\n",
    "    if simul_or_real == \"simul\":\n",
    "        IV = sigma\n",
    "        if long_or_short == 'long':\n",
    "            IV = IV - IV * 0.15\n",
    "        elif long_or_short == 'short':\n",
    "            IV = IV + IV * 0.15\n",
    "        \n",
    "        T = 26\n",
    "        timeBtwHedgeRebal = 0.2 # 일일 시뮬레이션\n",
    "        daysToYears = np.linspace(0,T,int(T/timeBtwHedgeRebal)+1)/52\n",
    "        total_steps = len(daysToYears)\n",
    "        dt = timeBtwHedgeRebal/52\n",
    "        \n",
    "        \n",
    "        s = np.zeros((total_steps, sim_num))\n",
    "        s[0,:] = s0\n",
    "        \n",
    "        vol_path = np.zeros((total_steps, sim_num)) + sigma\n",
    "        \n",
    "        \n",
    "        for i in range(total_steps-1):\n",
    "            z = np.random.randn(sim_num)\n",
    "            s[i+1,:] = s[i,:] * np.exp((mu-0.5*sigma**2)*dt + np.sqrt(dt)*(sigma*z))\n",
    "        \n",
    "        true_call_p = calloptionPrice(s0,k,r,q,sigma,1/2)\n",
    "        implied_call_p = calloptionPrice(s0,k,r,q,IV,1/2)\n",
    "        theoretical_edge = abs(true_call_p - implied_call_p)\n",
    "    \n",
    "    \n",
    "    elif simul_or_real == \"real\":\n",
    "        \n",
    "        ### day ###\n",
    "        daysToYears = np.linspace(0,T,int(T/timeBtwHedgeRebal)+1)/250\n",
    "\n",
    "        ### stock path ###\n",
    "        total_steps = len(daysToYears)\n",
    "        dt = timeBtwHedgeRebal/250\n",
    "    \n",
    "        sim_num = 1\n",
    "        data = pd.read_csv(\"./data/\"+stock_name+\"_RV.csv\")\n",
    "        \n",
    "        if vol_type == \"constant\":\n",
    "            vol_path = data.constant_vol.values.reshape(-1,1)\n",
    "            vol_path = np.insert(vol_path, 0, vol_path[0]).reshape(-1,1)\n",
    "            \n",
    "            IV = vol_path[0][0]\n",
    "            if long_or_short == 'long':\n",
    "                IV = IV - IV * 0.15\n",
    "    \n",
    "            elif long_or_short == 'short':\n",
    "                IV = IV + IV * 0.15\n",
    "            \n",
    "        elif vol_type == \"historical\":\n",
    "            vol_path = data.historical_vol_6m.values.reshape(-1,1)\n",
    "            vol_path = np.insert(vol_path, 0, vol_path[0]).reshape(-1,1)\n",
    "            \n",
    "            IV = vol_path[0][0]\n",
    "            if long_or_short == 'long':\n",
    "                IV = IV - IV * 0.15\n",
    "    \n",
    "            elif long_or_short == 'short':\n",
    "                IV = IV + IV * 0.15\n",
    "        \n",
    "        elif vol_type == \"IV\":\n",
    "            vol_path = data.constant_vol.values.reshape(-1,1)\n",
    "            vol_path = np.insert(vol_path, 0, vol_path[0]).reshape(-1,1)\n",
    "            \n",
    "            IV = vol_path[0][0]\n",
    "            \n",
    "            if long_or_short == 'long':\n",
    "                IV = IV - IV * 0.15\n",
    "                vol_path = np.zeros((total_steps, sim_num)) + IV\n",
    "            elif long_or_short == 'short':\n",
    "                IV = IV + IV * 0.15\n",
    "                vol_path = np.zeros((total_steps, sim_num)) + IV\n",
    "                \n",
    "\n",
    "        \n",
    "        s = pd.read_csv(\"./data/\"+stock_name+\".csv\").close_y.values.reshape(-1,1)\n",
    "        s = np.insert(s, 0, s[0]).reshape(-1,1)\n",
    "        \n",
    "        k= s[0][0]*1.1\n",
    "        \n",
    "        true_call_p = calloptionPrice(s[0][0],k,r,q,vol_dict[stock_name][0],1/2)\n",
    "        implied_call_p = calloptionPrice(s[0][0],k,r,q,IV,1/2)\n",
    "        theoretical_edge = abs(true_call_p - implied_call_p)\n",
    "        \n",
    "    else:\n",
    "        print(\"input simul or real\")\n",
    "        return\n",
    "    \n",
    "    \n",
    "    \n",
    "    \n",
    "    \n",
    "    ### Delta Path 설정: 각각의 Delta Path가 곧 하나의 전략 ###\n",
    "    \n",
    "    delta_u_path = np.zeros((total_steps, sim_num))\n",
    "    up_buffer = np.zeros((total_steps, sim_num))\n",
    "    down_buffer = np.zeros((total_steps, sim_num))\n",
    "    gamma_path = np.zeros((total_steps, sim_num))\n",
    "    max_gamma_path = np.zeros((total_steps, sim_num))\n",
    "    \n",
    "    ## BSM : 기존 BSM Delta##\n",
    "    if delta_strategy == \"BSM\":\n",
    "        \n",
    "        BSM_delta_path = np.zeros((total_steps, sim_num))\n",
    "        for j in range(sim_num):\n",
    "            for i in range(total_steps):\n",
    "                if long_or_short == 'long':\n",
    "                    BSM_delta_path[i,j] = delta(s[i,j], k, r, q, vol_path[i,j], daysToYears[len(daysToYears) - (i + 1)]) \n",
    "                elif long_or_short == 'short':\n",
    "                    BSM_delta_path[i,j] = -delta(s[i,j], k, r, q,  vol_path[i,j], daysToYears[len(daysToYears) - (i + 1)])\n",
    "        \n",
    "        delta_path = BSM_delta_path\n",
    "    \n",
    "    \n",
    "    \n",
    "    ## Modified_max_gamma_ratio: Modified Delta의 delta_u를 max_gamma 대비 Ratio로 계산 ##\n",
    "    elif delta_strategy == \"Modified_max_gamma_ratio\":\n",
    "        \n",
    "        Modified_delta_path = np.zeros((total_steps, sim_num))\n",
    "        gamma_path = np.zeros((total_steps, sim_num))\n",
    "        max_gamma_path = np.zeros((total_steps, sim_num))\n",
    "        \n",
    "        for j in range(sim_num):\n",
    "            for i in range(total_steps):\n",
    "                if long_or_short == 'long':\n",
    "                    gamma_path[i,j] = gamma(s[i,j], k, r, daysToYears[len(daysToYears) - (i + 1)],  vol_path[i,j])\n",
    "                    max_gamma_path[i,j] = gamma(k, k, r, daysToYears[len(daysToYears) - (i + 1)],  vol_path[i,j]) \n",
    "                elif long_or_short == 'short':\n",
    "                    gamma_path[i,j] = -gamma(s[i,j], k, r, daysToYears[len(daysToYears) - (i + 1)],  vol_path[i,j])\n",
    "                    max_gamma_path[i,j] = -gamma(k, k, r, daysToYears[len(daysToYears) - (i + 1)],  vol_path[i,j])\n",
    "                \n",
    "                if i == (total_steps-1):\n",
    "                    delta_u_path[i,j] = delta_u_path[i-1,j]\n",
    "                else:\n",
    "                    delta_u_path[i,j] = (max_gamma_path[i,j]/gamma_path[i,j]) /1000\n",
    "                    \n",
    "                    #제한두는 값이 중요하다!\n",
    "                    if delta_u_path[i,j] > 0.3:\n",
    "                        delta_u_path[i,j] = 0.3\n",
    "                    else: \n",
    "                        pass\n",
    "                    \n",
    "                \n",
    "                if i == 0:\n",
    "                    if long_or_short == 'long':\n",
    "                        Modified_delta_path[i,j] = modified_delta(s[i,j], k, r, q,  vol_path[i,j], daysToYears[len(daysToYears) - (i + 1)],\n",
    "                                                                 delta_u_path[i,j], 0.5, 0.5) \n",
    "                    elif long_or_short == 'short':\n",
    "                        Modified_delta_path[i,j] = -modified_delta(s[i,j], k, r, q,  vol_path[i,j], daysToYears[len(daysToYears) - (i + 1)],\n",
    "                                                                  delta_u_path[i,j], 0.5, 0.5)\n",
    "                    \n",
    "                    up_buffer[i,j] = s[i,j] + s[i,j]*delta_u_path[i,j]\n",
    "                    down_buffer[i,j] = s[i,j] - s[i,j]*delta_u_path[i,j]\n",
    "                    \n",
    "                else:\n",
    "                    #만기시점 가까이에서 한번 delta_u가 튀어버리면 hedge 계속안하게될 가능성있음 추후 조정 필요\n",
    "                    if down_buffer[i,j] < s[i,j] < up_buffer[i,j]:\n",
    "                        Modified_delta_path[i,j] = Modified_delta_path[i-1,j]\n",
    "                        down_buffer[i,j] = down_buffer[i-1,j]\n",
    "                        up_buffer[i,j] = up_buffer[i-1,j]\n",
    "                        \n",
    "                        \n",
    "                    else:\n",
    "                        if long_or_short == 'long':\n",
    "                            Modified_delta_path[i,j] = modified_delta(s[i,j], k, r, q,  vol_path[i,j], daysToYears[len(daysToYears) - (i + 1)],\n",
    "                                                                 delta_u_path[i,j], 0.5, 0.5) \n",
    "                        elif long_or_short == 'short':\n",
    "                            Modified_delta_path[i,j] = -modified_delta(s[i,j], k, r, q,  vol_path[i,j], daysToYears[len(daysToYears) - (i + 1)],\n",
    "                                                                      delta_u_path[i,j], 0.5, 0.5)\n",
    "                        \n",
    "                        up_buffer[i,j] = s[i,j] + s[i,j]*delta_u_path[i,j]\n",
    "                        down_buffer[i,j] = s[i,j] - s[i,j]*delta_u_path[i,j]\n",
    "                                                      \n",
    "                            \n",
    "        delta_path = Modified_delta_path\n",
    "    \n",
    "    \n",
    "    \n",
    "    ## Momentum : 위의 \"Modified_max_gamma_ratio\" 전략을 이어받아 momentum에 따라 w1과 w2의 가중치를 조절 ##\n",
    "    elif delta_strategy == \"Momentum\":\n",
    "        \n",
    "        Momentum_delta_path = np.zeros((total_steps, sim_num))\n",
    "        gamma_path = np.zeros((total_steps, sim_num))\n",
    "        max_gamma_path = np.zeros((total_steps, sim_num))\n",
    "        \n",
    "        for j in range(sim_num):\n",
    "            w_up = 0.5\n",
    "            w_down = 0.5\n",
    "            for i in range(total_steps):\n",
    "                if long_or_short == 'long':\n",
    "                    gamma_path[i,j] = gamma(s[i,j], k, r, daysToYears[len(daysToYears) - (i + 1)],  vol_path[i,j])\n",
    "                    max_gamma_path[i,j] = gamma(k, k, r, daysToYears[len(daysToYears) - (i + 1)],  vol_path[i,j]) \n",
    "                elif long_or_short == 'short':\n",
    "                    gamma_path[i,j] = -gamma(s[i,j], k, r, daysToYears[len(daysToYears) - (i + 1)],  vol_path[i,j])\n",
    "                    max_gamma_path[i,j] = -gamma(k, k, r, daysToYears[len(daysToYears) - (i + 1)],  vol_path[i,j])\n",
    "                \n",
    "                if i == (total_steps-1):\n",
    "                    delta_u_path[i,j] = delta_u_path[i-1,j]\n",
    "                else:\n",
    "                    delta_u_path[i,j] = (max_gamma_path[i,j]/gamma_path[i,j]) /10\n",
    "                    \n",
    "                    #제한두는 값이 중요하다!\n",
    "                    if delta_u_path[i,j] > 0.3:\n",
    "                        delta_u_path[i,j] = 0.3\n",
    "                    else: \n",
    "                        pass             \n",
    "                \n",
    "                if i < 2:\n",
    "                    if long_or_short == 'long':\n",
    "                        Momentum_delta_path[i,j] = modified_delta(s[i,j], k, r, q,  vol_path[i,j], daysToYears[len(daysToYears) - (i + 1)],\n",
    "                                                                 delta_u_path[i,j], w_up, w_down) \n",
    "                    elif long_or_short == 'short':\n",
    "                        Momentum_delta_path[i,j] = -modified_delta(s[i,j], k, r, q,  vol_path[i,j], daysToYears[len(daysToYears) - (i + 1)],\n",
    "                                                                  delta_u_path[i,j], w_up, w_down)\n",
    "                else:\n",
    "                    if (s[i,j] > s[i-1,j]) & (s[i-1,j] > s[i-2,j]):\n",
    "                        w_up = 0.7\n",
    "                        w_down = 0.3\n",
    "\n",
    "                    elif (s[i,j] < s[i-1,j]) & (s[i-1,j] < s[i-2,j]):\n",
    "                        w_up = 0.3\n",
    "                        w_down = 0.7\n",
    "\n",
    "                    else:\n",
    "                        w_up = 0.5\n",
    "                        w_down = 0.5\n",
    "\n",
    "                    if long_or_short == 'long':\n",
    "                        Momentum_delta_path[i,j] = modified_delta(s[i,j], k, r, q,  vol_path[i,j], daysToYears[len(daysToYears) - (i + 1)],\n",
    "                                                                 delta_u_path[i,j], w_up, w_down) \n",
    "                    elif long_or_short == 'short':\n",
    "                        Momentum_delta_path[i,j] = -modified_delta(s[i,j], k, r, q,  vol_path[i,j], daysToYears[len(daysToYears) - (i + 1)],\n",
    "                                                                  delta_u_path[i,j], w_up, w_down)\n",
    "\n",
    "        delta_path = Momentum_delta_path\n",
    "        \n",
    "    \n",
    "    \n",
    "    \n",
    "    ## Trigger: Derman Lecture note에 소개되는 Delta Trigger Strategy 참고 ##\n",
    "    elif delta_strategy == \"Trigger\":\n",
    "\n",
    "        trig =0.02\n",
    "        Trigger_delta_path = np.zeros((total_steps, sim_num))\n",
    "        for j in range(sim_num):\n",
    "            for i in range(total_steps):\n",
    "                if long_or_short == 'long':\n",
    "                    if i == 0:\n",
    "                        Trigger_delta_path[i,j] = delta(s[i,j], k, r, q,  vol_path[i,j], daysToYears[len(daysToYears) - (i + 1)])\n",
    "                    else:\n",
    "                        Trigger_delta_path[i,j] = delta(s[i,j], k, r, q,  vol_path[i,j], daysToYears[len(daysToYears) - (i + 1)])\n",
    "                        if abs(Trigger_delta_path[i,j] / Trigger_delta_path[i-1,j] - 1) <= trig:\n",
    "                            Trigger_delta_path[i,j] = Trigger_delta_path[i-1,j]\n",
    "\n",
    "\n",
    "                elif long_or_short == 'short':\n",
    "                    if i == 0:\n",
    "                        Trigger_delta_path[i,j] = -delta(s[i,j], k, r, q,  vol_path[i,j], daysToYears[len(daysToYears) - (i + 1)])\n",
    "                    else:\n",
    "                        Trigger_delta_path[i,j] = -delta(s[i,j], k, r, q,  vol_path[i,j], daysToYears[len(daysToYears) - (i + 1)])\n",
    "                        if abs(Trigger_delta_path[i,j] / Trigger_delta_path[i-1,j] - 1) <= trig:\n",
    "                            Trigger_delta_path[i,j] = Trigger_delta_path[i-1,j]\n",
    "\n",
    "        delta_path = Trigger_delta_path\n",
    "    \n",
    "    \n",
    "    \n",
    "    \n",
    "    ## Sigma_Trigger: Realized Volatility를 Trigger로 둔 전략 ##\n",
    "    elif delta_strategy == \"Sigma_Trigger\":\n",
    "        \n",
    "        ## sigma trigger ##\n",
    "        ST = vol_path[0][0]\n",
    "        trig = 0.02\n",
    "        ST_delta_path = np.zeros((total_steps, sim_num))\n",
    "        for j in range(sim_num):\n",
    "            for i in range(total_steps):\n",
    "                if long_or_short == 'long':\n",
    "                    if i == 0:\n",
    "                        ST_delta_path[i,j] = delta(s[i,j], k, r, q, vol_path[i,j], daysToYears[len(daysToYears)-(i+1)])\n",
    "                    elif i < 382:\n",
    "                        ST_delta_path[i,j] = delta(s[i,j], k, r, q, vol_path[i,j], daysToYears[len(daysToYears)-(i+1)])\n",
    "                        if abs(ST_delta_path[i,j] / ST_delta_path[i-1,j] - 1) <= trig:\n",
    "                            ST_delta_path[i,j] = ST_delta_path[i-1,j] \n",
    "                    else:\n",
    "                        ST_delta_path[i,j] = ST_delta_path[i-1,j]\n",
    "                        if (abs(np.log(s[i,j]/s[i-382,j]))*np.sqrt(1/(382*dt)) >= ST) & (i < 382*2):\n",
    "                            ST_delta_path[i,j] = delta(s[i,j], k, r, q, vol_path[i,j], daysToYears[len(daysToYears)-(i+1)])\n",
    "                        elif ((abs(np.log(s[i,j]/s[i-382,j]))*np.sqrt(1/(382*dt)) >= ST) | (abs(np.log(s[i,j]/s[i-382*2,j]))*np.sqrt(1/(382*2*dt)) >= ST)) & (i < 382*3):\n",
    "                            ST_delta_path[i,j] = delta(s[i,j], k, r, q, vol_path[i,j], daysToYears[len(daysToYears)-(i+1)])\n",
    "                        elif ((abs(np.log(s[i,j]/s[i-382,j]))*np.sqrt(1/(382*dt)) >= ST) | (abs(np.log(s[i,j]/s[i-382*2,j]))*np.sqrt(1/(382*2*dt)) >= ST) | (abs(np.log(s[i,j]/s[i-382*3,j]))*np.sqrt(1/(382*3*dt)) >= ST)):\n",
    "                            ST_delta_path[i,j] = delta(s[i,j], k, r, q, vol_path[i,j], daysToYears[len(daysToYears)-(i+1)])  \n",
    "\n",
    "\n",
    "\n",
    "                elif long_or_short == 'short':\n",
    "                    if i == 0:\n",
    "                        ST_delta_path[i,j] = -delta(s[i,j], k, r, q, vol_path[i,j], daysToYears[len(daysToYears)-(i+1)])           \n",
    "                    elif i < 382:\n",
    "                        ST_delta_path[i,j] = -delta(s[i,j], k, r, q, vol_path[i,j], daysToYears[len(daysToYears)-(i+1)])\n",
    "                        if abs(ST_delta_path[i,j] / ST_delta_path[i-1,j]-1) <= trig:\n",
    "                            ST_delta_path[i,j] = ST_delta_path[i-1,j]\n",
    "                    else:\n",
    "                        ST_delta_path[i,j] = ST_delta_path[i-1,j]\n",
    "                        if (abs(np.log(s[i,j]/s[i-382,j]))*np.sqrt(1/(382*dt)) >= ST) & (i < 382*2):\n",
    "                            ST_delta_path[i,j] = -delta(s[i,j], k, r, q, vol_path[i,j], daysToYears[len(daysToYears)-(i+1)])\n",
    "                        elif ((abs(np.log(s[i,j]/s[i-382,j]))*np.sqrt(1/(382*dt)) >= ST) | (abs(np.log(s[i,j]/s[i-382*2,j]))*np.sqrt(1/(382*2*dt)) >= ST)) & (i < 382*3):\n",
    "                            ST_delta_path[i,j] = -delta(s[i,j], k, r, q, vol_path[i,j], daysToYears[len(daysToYears)-(i+1)])\n",
    "                        elif ((abs(np.log(s[i,j]/s[i-382,j]))*np.sqrt(1/(382*dt)) >= ST) | (abs(np.log(s[i,j]/s[i-382*2,j]))*np.sqrt(1/(382*2*dt)) >= ST) | (abs(np.log(s[i,j]/s[i-382*3,j]))*np.sqrt(1/(382*3*dt)) >= ST)):\n",
    "                            ST_delta_path[i,j] = -delta(s[i,j], k, r, q, vol_path[i,j], daysToYears[len(daysToYears)-(i+1)])                          \n",
    "\n",
    "        \n",
    "        delta_path = ST_delta_path \n",
    "        \n",
    "    \n",
    "    ## Sigma_Trigger_delta: 위의 \"Sigma_Trigger\" 전략을 만기에 가까워 질때 Delta Trigger로 전환 ##\n",
    "    elif delta_strategy == \"Sigma_Trigger_delta\":\n",
    "        ST = vol_path[0][0]   ## sigma trigger ##\n",
    "        trig = 0.02\n",
    "        ST2_delta_path = np.zeros((total_steps, sim_num))\n",
    "        for j in range(sim_num):\n",
    "            for i in range(total_steps):\n",
    "                if long_or_short == 'long':\n",
    "                    if i == 0:\n",
    "                        ST2_delta_path[i,j] = delta(s[i,j], k, r, q, vol_path[i,j], daysToYears[len(daysToYears)-(i+1)])\n",
    "                    elif (i < 382) | ((s[i,j]>=k) & (i >= (total_steps)*0.9)):\n",
    "                        ST2_delta_path[i,j] = delta(s[i,j], k, r, q, vol_path[i,j], daysToYears[len(daysToYears)-(i+1)])\n",
    "                        if abs(ST2_delta_path[i,j] / ST2_delta_path[i-1,j]-1) <= trig:\n",
    "                            ST2_delta_path[i,j] = ST2_delta_path[i-1,j]                          \n",
    "                    else:\n",
    "                        ST2_delta_path[i,j] = ST2_delta_path[i-1,j]\n",
    "                        if (abs(np.log(s[i,j]/s[i-382,j]))*np.sqrt(1/(382*dt)) >= ST) & (i < 382*2):\n",
    "                            ST2_delta_path[i,j] = delta(s[i,j], k, r, q, vol_path[i,j], daysToYears[len(daysToYears)-(i+1)])\n",
    "                        elif ((abs(np.log(s[i,j]/s[i-382,j]))*np.sqrt(1/(382*dt)) >= ST) | (abs(np.log(s[i,j]/s[i-382*2,j]))*np.sqrt(1/(382*2*dt)) >= ST)) & (i < 382*3):\n",
    "                            ST2_delta_path[i,j] = delta(s[i,j], k, r, q, vol_path[i,j], daysToYears[len(daysToYears)-(i+1)])\n",
    "                        elif ((abs(np.log(s[i,j]/s[i-382,j]))*np.sqrt(1/(382*dt)) >= ST) | (abs(np.log(s[i,j]/s[i-382*2,j]))*np.sqrt(1/(382*2*dt)) >= ST) | (abs(np.log(s[i,j]/s[i-382*3,j]))*np.sqrt(1/(382*3*dt)) >= ST)):\n",
    "                            ST2_delta_path[i,j] = delta(s[i,j], k, r, q, vol_path[i,j], daysToYears[len(daysToYears)-(i+1)])  \n",
    "\n",
    "                elif long_or_short == 'short':\n",
    "                    if i == 0:\n",
    "                        ST2_delta_path[i,j] = -delta(s[i,j], k, r, q, vol_path[i,j], daysToYears[len(daysToYears)-(i+1)])\n",
    "                    elif (i < 382) | ((s[i,j]>=k) & (i >= (total_steps)*0.9)):\n",
    "                        ST2_delta_path[i,j] = -delta(s[i,j], k, r, q, vol_path[i,j], daysToYears[len(daysToYears)-(i+1)])\n",
    "                        if abs(ST2_delta_path[i,j] / ST2_delta_path[i-1,j]-1) <= trig:\n",
    "                            ST2_delta_path[i,j] = ST2_delta_path[i-1,j]                            \n",
    "                    else:\n",
    "                        ST2_delta_path[i,j] = ST2_delta_path[i-1,j]\n",
    "                        if (abs(np.log(s[i,j]/s[i-382,j]))*np.sqrt(1/(382*dt)) >= ST) & (i < 382*2):\n",
    "                            ST2_delta_path[i,j] = -delta(s[i,j], k, r, q, vol_path[i,j], daysToYears[len(daysToYears)-(i+1)])\n",
    "                        elif ((abs(np.log(s[i,j]/s[i-382,j]))*np.sqrt(1/(382*dt)) >= ST) | (abs(np.log(s[i,j]/s[i-382*2,j]))*np.sqrt(1/(382*2*dt)) >= ST)) & (i < 382*3):\n",
    "                            ST2_delta_path[i,j] = -delta(s[i,j], k, r, q, vol_path[i,j], daysToYears[len(daysToYears)-(i+1)])\n",
    "                        elif ((abs(np.log(s[i,j]/s[i-382,j]))*np.sqrt(1/(382*dt)) >= ST) | (abs(np.log(s[i,j]/s[i-382*2,j]))*np.sqrt(1/(382*2*dt)) >= ST) | (abs(np.log(s[i,j]/s[i-382*3,j]))*np.sqrt(1/(382*3*dt)) >= ST)):\n",
    "                            ST2_delta_path[i,j] = -delta(s[i,j], k, r, q, vol_path[i,j], daysToYears[len(daysToYears)-(i+1)])     \n",
    "        \n",
    "        delta_path = ST2_delta_path  \n",
    "    \n",
    "\n",
    "    else:\n",
    "        print(\"#### Missing Strategy of Delta Path #####\")\n",
    "        \n",
    "        \n",
    "    #Terminal Delta 값을 Moneyness에 따라 조정 \n",
    "    if long_or_short == 'long':\n",
    "        for j in range(sim_num):\n",
    "            if s[-1,j] > k:\n",
    "                delta_path[-1,j] = 1\n",
    "            else:\n",
    "                delta_path[-1,j] = 0\n",
    "                \n",
    "    elif long_or_short == 'short':\n",
    "        for j in range(sim_num):\n",
    "            if s[-1,j] > k:\n",
    "                delta_path[-1,j] = -1\n",
    "            else:\n",
    "                delta_path[-1,j] = 0\n",
    "    \n",
    "    \n",
    "    ### Shares purchase ###\n",
    "    sharesPurchased = np.zeros((total_steps, sim_num))\n",
    "        \n",
    "    for j in range(sim_num):\n",
    "        for i in range(total_steps):\n",
    "            if i == 0:\n",
    "                sharesPurchased[i,j] = -delta_path[i,j] * numOfCall\n",
    "            else:\n",
    "                sharesPurchased[i,j] = -(delta_path[i,j] - delta_path[i-1,j]) * numOfCall\n",
    "\n",
    "    \n",
    "    \n",
    "    # 거래비용 고려\n",
    "    \n",
    "    # 여기에다가 sharesPurchased가 (-)일 때, 그만큼 주식을 팔아야 하니깐, 거래비용 추가부분 (*0.001) 해주어야한다.\n",
    "    ### Cost of shares purchased ###\n",
    "    \n",
    "    # 거래비용 고려한 코드\n",
    "    costOfSharesPurchased = s * sharesPurchased * (np.ones((total_steps, sim_num)) + (sharesPurchased < 0) * (-0.001))\n",
    "    transaction_cost = s * sharesPurchased * (sharesPurchased < 0) * (-0.001)\n",
    "\n",
    "    \n",
    "    \n",
    "    \n",
    "    # 현금을 갖고 있다고 가정하고(또는 현금을 차입했다고 생각하고), 갖고 있는 현금(또는 빌린 현금)에 대한 이자율까지 고려\n",
    "    # 이 부분에 기존 현금을 갖고 있고, 거기에 대해 헷징 비용이 부과되며, 전체적으로 이자율이 고려되는 코드를 짜야함.\n",
    "    \n",
    "    ### Interest Cost & Cumulative cost including interest ###\n",
    "    # long : 현금을 쓰고 시작 (cost가 (+)에서 시작), short : 현금을 들고 시작 (cost가 (-)에서 시작)\n",
    "    \n",
    "    if long_or_short == 'long':\n",
    "        initial_cost = (calloptionPrice(s0, k, r, q, IV, T/52)) * numOfCall\n",
    "    else:\n",
    "        initial_cost = (-1) * (calloptionPrice(s0, k, r, q, IV, T/52)) * numOfCall\n",
    "                                 \n",
    "    \n",
    "    interestCost = np.zeros((total_steps, sim_num))\n",
    "    cumCostInclInterest = np.zeros((total_steps, sim_num))\n",
    "    \n",
    "    for j in range(sim_num):\n",
    "        for i in range(total_steps):\n",
    "            if i == 0:\n",
    "                \n",
    "                # 기존 : 그냥 헷징 코스트만 구하는 것.\n",
    "                #cumCostInclInterest[i,j] = costOfSharesPurchased[i,j]\n",
    "                \n",
    "                # 현재 : 주어진 현금에 헷징 코스트를 차감 하는 구조.\n",
    "                cumCostInclInterest[i,j] = initial_cost + costOfSharesPurchased[i,j]\n",
    "                interestCost[i,j] = cumCostInclInterest[i,j] * r * dt\n",
    "\n",
    "            else:\n",
    "                cumCostInclInterest[i,j] = cumCostInclInterest[i-1,j] + costOfSharesPurchased[i,j] + interestCost[i-1,j]\n",
    "\n",
    "                if i == total_steps-1:\n",
    "                    interestCost[i,j] = 0.0\n",
    "                else:\n",
    "                    interestCost[i,j] = cumCostInclInterest[i,j] * r * dt\n",
    "                \n",
    "    # 기존 : hedging cost를 구하는 것이었음.            \n",
    "    #hedgingCost = cumCostInclInterest[-1,:] - k * numOfCall * (s[-1, :] > k)\n",
    "    \n",
    "    #현재 : 만기 시점에 남은 돈을 구하는 것 -> 옵션이 행사되면 long(cost 감소), short(cost 증가)\n",
    "    if long_or_short == 'long':\n",
    "        final_money = cumCostInclInterest[-1,:] + k * numOfCall * (s[-1, :] > k)\n",
    "    else:\n",
    "        final_money = cumCostInclInterest[-1,:] - k * numOfCall * (s[-1, :] > k)\n",
    "    \n",
    "\n",
    "    \n",
    "    \n",
    "    \n",
    "    \"\"\"\n",
    "        ATM 정의를 어떻게 할 것인가?\n",
    "        1. 행사가격 += 일정비율? : ATM에서 행사 된 것, 안된 것 다 포함되어서 hedging ratio가 낮게 나옴.\n",
    "        2. 행사가격 - 일정비율? : ATM은 \"행사가 안되었다\"고 생각할 수 있기 때문에 적절할듯?\n",
    "        그 외 다른방법?\n",
    "    \"\"\"\n",
    "\n",
    "    final_prices = s[-1,:]\n",
    "    atm_lower_bound = (1-atm_threshold_ratio) * k\n",
    "    atm_higher_bound = k\n",
    "    ITM_list = final_money[final_prices >= atm_higher_bound]\n",
    "    ATM_list = final_money[(final_prices < atm_higher_bound)&(final_prices >= atm_lower_bound)]\n",
    "    OTM_list = final_money[final_prices < atm_lower_bound]\n",
    "    \n",
    "    \n",
    "    hedging_performance = final_money.std() / (calloptionPrice(s0,k,r,q,IV,T/52) * numOfCall)\n",
    "    ITM_hedging_performance = ITM_list.std() / (calloptionPrice(s0,k,r,q,IV,T/52) * numOfCall)\n",
    "    ATM_hedging_performance = ATM_list.std() / (calloptionPrice(s0,k,r,q,IV,T/52) * numOfCall)\n",
    "    OTM_hedging_performance = OTM_list.std() / (calloptionPrice(s0,k,r,q,IV,T/52) * numOfCall)\n",
    "    \n",
    "    \n",
    "    \n",
    "    moneyness_res = [ITM_list, ATM_list, OTM_list, ITM_hedging_performance, ATM_hedging_performance, OTM_hedging_performance]\n",
    "    \n",
    "    \n",
    "    final_money = final_money.mean()\n",
    "    if simul_or_real == 'simul':\n",
    "        transaction_cost = transaction_cost.sum() / sim_num\n",
    "    elif simul_or_real == 'real':\n",
    "        transaction_cost = transaction_cost.sum()\n",
    "        \n",
    "\n",
    "    return s, delta_path, gamma_path, max_gamma_path, delta_u_path, up_buffer, down_buffer, final_money, hedging_performance, theoretical_edge, cumCostInclInterest, transaction_cost, moneyness_res"
   ]
  },
  {
   "cell_type": "markdown",
   "metadata": {},
   "source": [
    "### [Final Result 추출 함수 1] : Simulation 주가 Path"
   ]
  },
  {
   "cell_type": "code",
   "execution_count": 10,
   "metadata": {},
   "outputs": [],
   "source": [
    "def make_final_result_simulation(strategy,file_name):\n",
    "    performance_table = pd.DataFrame(index=[\"Total\",'ITM','ATM','OTM'], columns=strategy)\n",
    "    final_money_table = pd.DataFrame(index=[\"Total\",'ITM','ATM','OTM'], columns=strategy)\n",
    "\n",
    "    for ds in strategy:\n",
    "        s, delta_path, gamma_path, max_gamma_path, delta_u_path, up_buffer, down_buffer, final_money, hedging_performance, theoretical_edge, cumCostInclInterest, transaction_cost, moneyness_res = DynamicHedging('simul','long', ds, 'IV' ,s0, mu, k, r, q, sigma, T, numOfCall, timeBtwHedgeRebal, sim_num, stock_name=\"s\", atm_threshold_ratio = 0.1)\n",
    "\n",
    "        final_money_table.loc[\"Total\",ds] = final_money.mean()\n",
    "        final_money_table.loc[\"ITM\",ds] = moneyness_res[0].mean()\n",
    "        final_money_table.loc[\"ATM\",ds] = moneyness_res[1].mean()\n",
    "        final_money_table.loc[\"OTM\",ds] = moneyness_res[2].mean()\n",
    "        \n",
    "        performance_table.loc[\"Total\",ds] = hedging_performance\n",
    "        performance_table.loc[\"ITM\",ds] = moneyness_res[3]\n",
    "        performance_table.loc[\"ATM\",ds] = moneyness_res[4]\n",
    "        performance_table.loc[\"OTM\",ds] = moneyness_res[5]\n",
    "        \n",
    "\n",
    "    with pd.ExcelWriter(file_name+'.xlsx') as writer:  \n",
    "        performance_table.to_excel(writer, sheet_name='performance_table')\n",
    "        final_money_table.to_excel(writer, sheet_name='final_money_table')\n",
    "        \n",
    "    return performance_table, final_money_table"
   ]
  },
  {
   "cell_type": "markdown",
   "metadata": {},
   "source": [
    "### [Final Result 추출 함수 2] : Real 주가 Path"
   ]
  },
  {
   "cell_type": "code",
   "execution_count": 11,
   "metadata": {},
   "outputs": [],
   "source": [
    "# Real 주가 Path 사용시 Result.xlsx 추출 함수\n",
    "def make_final_result_real(stock_names,long_short, vol_types, strategy, file_name):\n",
    "    global s0 , mu, k, r, q, sigma, T, numOfCall, timeBtwHedgeRebal\n",
    "    \n",
    "    \n",
    "    result = {}\n",
    "    for name in stock_names:\n",
    "        print(name)\n",
    "        for pos in long_short:\n",
    "            data = pd.DataFrame(columns=strategy, index=vol_types)\n",
    "            for vol in vol_types:\n",
    "                for st in strategy:\n",
    "                    s, delta_path, gamma_path, max_gamma_path, delta_u_path, up_buffer, down_buffer, final_money, hedging_performance, theoretical_edge, cumCostInclInterest, transaction_cost, moneyness_res = DynamicHedging(\"real\",pos,st,vol, s0, mu, k, r, q, sigma, T, numOfCall, timeBtwHedgeRebal, sim_num, name)\n",
    "                    \n",
    "                    data.loc[vol, st] = (int(final_money),int(transaction_cost), len(np.unique(delta_path)))\n",
    "                    result[(name, pos)] = data\n",
    "    \n",
    "    \n",
    "    with pd.ExcelWriter(file_name+'.xlsx') as writer:  \n",
    "        for k in result.keys():\n",
    "            result[k].to_excel(writer, sheet_name=(str(k[0]) +\"_\"+ str(k[1])))\n",
    "    \n",
    "    \n",
    "    return result"
   ]
  },
  {
   "cell_type": "code",
   "execution_count": 12,
   "metadata": {},
   "outputs": [],
   "source": [
    "# 간단한 Result 추출 함수\n",
    "def make_result(simul_or_real,long_or_short, delta_strategy, vol_type, sim_num, stock_name=\"s\", path_num = 0):\n",
    "    global s0 , mu, k, r, q, sigma, T, numOfCall, timeBtwHedgeRebal\n",
    "    \n",
    "    s, delta_path, gamma_path, max_gamma_path, delta_u_path, up_buffer, down_buffer, final_money, hedging_performance, theoretical_edge, cumCostInclInterest, transaction_cost, moneyness_res = DynamicHedging(simul_or_real,long_or_short,delta_strategy,vol_type, s0, mu, k, r, q, sigma, T, numOfCall, timeBtwHedgeRebal, sim_num, stock_name)\n",
    "    \n",
    "    num= path_num\n",
    "    data = pd.DataFrame(np.vstack([s[:,num], delta_path[:,num],delta_u_path[:,num],down_buffer[:,num],up_buffer[:,num]\n",
    "                                   ,gamma_path[:,num],max_gamma_path[:,num], cumCostInclInterest[:,num]]), \n",
    "                        index=[\"s\", \"delta_path\", \"delta_u_path\", \"up_buffer\", \"down_buffer\",\"gamma_path\", \"max_gamma_path\",\"cumCost\"] ).T.iloc[:,:]\n",
    "    \n",
    "    print(\"final_money: \", final_money)\n",
    "    print(\"hedging_performance: \",hedging_performance)\n",
    "    print(\"theoretical_edge: \",theoretical_edge)\n",
    "    print(\"transaction_cost: \",transaction_cost)\n",
    "    \n",
    "    \n",
    "    return data, np.mean(final_money), delta_path"
   ]
  },
  {
   "cell_type": "markdown",
   "metadata": {},
   "source": [
    "## [TermProject P #1] Simulation - Long call(34%), Short call(46%)"
   ]
  },
  {
   "cell_type": "markdown",
   "metadata": {},
   "source": [
    "Pre_term 에서는 Short call 포지션을 헷징하였음. 이제는, Long&Short call 합성 포지션을 헷징해야함. 조건은 아래와 같음\n",
    "- S = 50000\n",
    "- RV = 40%(IV : Long(34%), Short(46%). 즉, 40 +(-)40 * 15% = 40 +(-)6% = 46, 34%)\n",
    "- r = 2% (= 0.02)\n",
    "- q = 0%\n",
    "- K = 55000\n",
    "- Option type = European Vanilla Call\n",
    "- the number of contract : 100,000 contracts"
   ]
  },
  {
   "cell_type": "markdown",
   "metadata": {},
   "source": [
    "#### 고정된 값(문제에서 조건으로 준 값)"
   ]
  },
  {
   "cell_type": "code",
   "execution_count": 13,
   "metadata": {},
   "outputs": [],
   "source": [
    "# 문제 조건 (fixed)\n",
    "k = 55000\n",
    "r = 0.02\n",
    "q = 0\n",
    "sigma = 0.4\n",
    "s0 = 50000\n",
    "numOfCall = 1\n",
    "T = 125 # 단위 : 일 (데이터 범위 총 125일 사용)"
   ]
  },
  {
   "cell_type": "markdown",
   "metadata": {},
   "source": [
    "#### 고정되지 않은 값(문제에서 주지 않아서 개발자가 임의로 정한 값)"
   ]
  },
  {
   "cell_type": "code",
   "execution_count": 14,
   "metadata": {},
   "outputs": [],
   "source": [
    "# 우리가 정하는 값(modifiable)\n",
    "long_or_short = 'long'\n",
    "atm_threshold_ratio = 0.1\n",
    "mu = 0.13 # 기존 pre-term 값을 사용\n",
    "\n",
    "# 1분에 1번 델타헷징. ##timeBtwHedgeRebal = 1 이면 하루한번 hedge!\n",
    "timeBtwHedgeRebal = 1/382 #ex>하루를 382분으로 나눔  ##0.2면 1주를 1/5 한것 이므로 하루 한번 헤지! # 단위 : 주, (5, 4, 2, 1, 0.5, 0.25)\n",
    "# timeBtwHedgeRebal = 0.0026387434554974 # 엄밀 126(일)/47750(# of DataPoint) # 사실 위의 값과 거의 같다.\n",
    "\n",
    "# 시뮬레이션은 1000번만 한다고 가정.\n",
    "sim_num = 1000"
   ]
  },
  {
   "cell_type": "markdown",
   "metadata": {},
   "source": [
    "## Simulation Examples"
   ]
  },
  {
   "cell_type": "markdown",
   "metadata": {},
   "source": [
    "### ex1) Simul_BSM"
   ]
  },
  {
   "cell_type": "code",
   "execution_count": 15,
   "metadata": {},
   "outputs": [
    {
     "name": "stdout",
     "output_type": "stream",
     "text": [
      "final_money:  -702.7970283342645\n",
      "hedging_performance:  0.15283359165907762\n",
      "theoretical_edge:  830.0044320540255\n",
      "transaction_cost:  120.76925595550924\n"
     ]
    }
   ],
   "source": [
    "res1 = make_result(\"simul\", \"long\", \"BSM\", \"historical\", 1000)"
   ]
  },
  {
   "cell_type": "markdown",
   "metadata": {},
   "source": [
    "### ex2) Simul_Modified_max_gamma_ratio"
   ]
  },
  {
   "cell_type": "code",
   "execution_count": 16,
   "metadata": {},
   "outputs": [
    {
     "name": "stdout",
     "output_type": "stream",
     "text": [
      "final_money:  -708.4486657534184\n",
      "hedging_performance:  0.19772455777338258\n",
      "theoretical_edge:  830.0044320540255\n",
      "transaction_cost:  128.24191103783545\n"
     ]
    }
   ],
   "source": [
    "res2 = make_result(\"simul\", \"long\", \"Modified_max_gamma_ratio\", \"historical\", 1000)"
   ]
  },
  {
   "cell_type": "markdown",
   "metadata": {},
   "source": [
    "### ex3) Simul_Momentum"
   ]
  },
  {
   "cell_type": "code",
   "execution_count": 17,
   "metadata": {},
   "outputs": [
    {
     "name": "stdout",
     "output_type": "stream",
     "text": [
      "final_money:  -619.1137425867039\n",
      "hedging_performance:  0.41834539908939156\n",
      "theoretical_edge:  830.0044320540255\n",
      "transaction_cost:  183.8041444396123\n"
     ]
    }
   ],
   "source": [
    "res3 = make_result(\"simul\", \"long\", \"Momentum\", \"historical\", 1000)"
   ]
  },
  {
   "cell_type": "markdown",
   "metadata": {},
   "source": [
    "### ex4) Simul_Trigger"
   ]
  },
  {
   "cell_type": "code",
   "execution_count": 18,
   "metadata": {},
   "outputs": [
    {
     "name": "stdout",
     "output_type": "stream",
     "text": [
      "final_money:  -710.8066273683141\n",
      "hedging_performance:  0.15510115658656123\n",
      "theoretical_edge:  830.0044320540255\n",
      "transaction_cost:  117.42837902784598\n"
     ]
    }
   ],
   "source": [
    "res4 = make_result(\"simul\", \"long\", \"Trigger\", \"historical\", 1000)"
   ]
  },
  {
   "cell_type": "markdown",
   "metadata": {},
   "source": [
    "### ex5) Simul_Sigma_Trigger"
   ]
  },
  {
   "cell_type": "code",
   "execution_count": 19,
   "metadata": {},
   "outputs": [
    {
     "name": "stdout",
     "output_type": "stream",
     "text": [
      "final_money:  -710.8066273683141\n",
      "hedging_performance:  0.15510115658656123\n",
      "theoretical_edge:  830.0044320540255\n",
      "transaction_cost:  117.42837902784598\n"
     ]
    }
   ],
   "source": [
    "res5 = make_result(\"simul\", \"long\", \"Sigma_Trigger\", \"historical\", 1000)"
   ]
  },
  {
   "cell_type": "markdown",
   "metadata": {},
   "source": [
    "### ex6) Simul_Sigma_Trigger_delta"
   ]
  },
  {
   "cell_type": "code",
   "execution_count": 20,
   "metadata": {},
   "outputs": [
    {
     "name": "stdout",
     "output_type": "stream",
     "text": [
      "final_money:  -710.8066273683141\n",
      "hedging_performance:  0.15510115658656123\n",
      "theoretical_edge:  830.0044320540255\n",
      "transaction_cost:  117.42837902784598\n"
     ]
    }
   ],
   "source": [
    "res6 = make_result(\"simul\", \"long\", \"Sigma_Trigger_delta\", \"historical\", 1000)"
   ]
  },
  {
   "cell_type": "code",
   "execution_count": null,
   "metadata": {},
   "outputs": [],
   "source": []
  },
  {
   "cell_type": "markdown",
   "metadata": {},
   "source": [
    "## Final_Simulation_Result (Excel 저장, 첨부파일 참고) "
   ]
  },
  {
   "cell_type": "code",
   "execution_count": 21,
   "metadata": {},
   "outputs": [],
   "source": [
    "strategy_list = ['Sigma_Trigger','Sigma_Trigger_delta','BSM','Modified_max_gamma_ratio','Momentum','Trigger']"
   ]
  },
  {
   "cell_type": "code",
   "execution_count": 22,
   "metadata": {},
   "outputs": [],
   "source": [
    "final_sim_result_to_excel = make_final_result_simulation(strategy_list, \"final_simulation\")"
   ]
  },
  {
   "cell_type": "code",
   "execution_count": null,
   "metadata": {},
   "outputs": [],
   "source": []
  },
  {
   "cell_type": "markdown",
   "metadata": {},
   "source": [
    "## [TermProject P #2] 실제 주가 데이터를 이용한 분석"
   ]
  },
  {
   "cell_type": "markdown",
   "metadata": {},
   "source": [
    "1. 기준일 직전 6개월 SMA 변동성이 30% 내외인 종목 수개(최소 4개). 다른 변동성도\n",
    "무방함. (과거 변동성이 실현 변동성과 같지 않으며, 한 개의 주가 path에 의존)\n",
    "2. 10% OTM E_V_Call을 일정한 margi을 확보한 상태에서 10만개 기준으로 매수/\n",
    "매도. Margin은 변동성에 비례하여 15% 가감함.\n",
    "예) 30% 변동성이라면(30*15%=4.5%), 매수는 25.5%, 매도는 34.5%의\n",
    "내재변동성으로 옵션 프리미엄을 산출할 것.\n",
    "3. 거래비용을 고려한다(매도 시 매도대금*0.1%를 감안). 다만, bid-ask sprea는\n",
    "무시함. 자금비용은 년 2%로 해서 일별 계산함."
   ]
  },
  {
   "cell_type": "code",
   "execution_count": 23,
   "metadata": {},
   "outputs": [],
   "source": [
    "# 각 주가 Path의 기본적인 Vol_Data\n",
    "# Vol_dict = {주식명: Front_vol, Back_vol, Total_vol}\n",
    "vol_dict = {'삼성전자': [0.2854981077672668, 0.2338300978239685, 0.2623155442023024],\n",
    "            '두산중공업': [0.5003216640357473, 0.7620044849744695, 0.6531566725759548],\n",
    "            '셀트리온헬스케어': [0.45873605461247124, 0.33358926941422684, 0.41434169971342094],\n",
    "            '롯데칠성': [0.32814852106807696, 0.2619066354598787, 0.2974295409932259],\n",
    "            '네이버': [0.35778236001178315, 0.33265906182906496, 0.3468251229159798],\n",
    "            '현대건설': [0.4538914857882747, 0.32779936502946194, 0.3980698908801952],\n",
    "            'SK네트웍스': [0.39337880616575827, 0.26371918402377176, 0.3332501241995625], \n",
    "            '코미팜':[0.6730826919816825,0.48231776889519784,0.5882105761860837], \n",
    "            '제주항공':[0.5543889494163243,0.32912320908722864,0.452382627041269]\n",
    "           }"
   ]
  },
  {
   "cell_type": "markdown",
   "metadata": {},
   "source": [
    "## 실제 주가 Path Examples"
   ]
  },
  {
   "cell_type": "markdown",
   "metadata": {},
   "source": [
    "### ex1) Real_BSM"
   ]
  },
  {
   "cell_type": "code",
   "execution_count": 24,
   "metadata": {},
   "outputs": [
    {
     "name": "stdout",
     "output_type": "stream",
     "text": [
      "final_money:  4532.234092821105\n",
      "hedging_performance:  0.0\n",
      "theoretical_edge:  533.4062841374252\n",
      "transaction_cost:  2442.5160044374848\n"
     ]
    }
   ],
   "source": [
    "res1 = make_result(\"real\", \"long\", \"BSM\", \"historical\", 1, \"삼성전자\")"
   ]
  },
  {
   "cell_type": "markdown",
   "metadata": {},
   "source": [
    "### ex2) Real_Modified_max_gamma_ratio"
   ]
  },
  {
   "cell_type": "code",
   "execution_count": 25,
   "metadata": {},
   "outputs": [
    {
     "name": "stdout",
     "output_type": "stream",
     "text": [
      "final_money:  5588.222927866911\n",
      "hedging_performance:  0.0\n",
      "theoretical_edge:  533.4062841374252\n",
      "transaction_cost:  2850.121974674525\n"
     ]
    }
   ],
   "source": [
    "res2 = make_result(\"real\", \"long\", \"Modified_max_gamma_ratio\", \"historical\", 1, \"삼성전자\")"
   ]
  },
  {
   "cell_type": "markdown",
   "metadata": {},
   "source": [
    "### ex3) Real_Momentum"
   ]
  },
  {
   "cell_type": "code",
   "execution_count": 26,
   "metadata": {},
   "outputs": [
    {
     "name": "stdout",
     "output_type": "stream",
     "text": [
      "final_money:  6599.8726313693915\n",
      "hedging_performance:  0.0\n",
      "theoretical_edge:  533.4062841374252\n",
      "transaction_cost:  8439.362172414445\n"
     ]
    }
   ],
   "source": [
    "res3 = make_result(\"real\", \"long\", \"Momentum\", \"historical\", 1, \"삼성전자\")"
   ]
  },
  {
   "cell_type": "markdown",
   "metadata": {},
   "source": [
    "### ex4) Real_Trigger"
   ]
  },
  {
   "cell_type": "code",
   "execution_count": 27,
   "metadata": {},
   "outputs": [
    {
     "name": "stdout",
     "output_type": "stream",
     "text": [
      "final_money:  5494.750987879583\n",
      "hedging_performance:  0.0\n",
      "theoretical_edge:  533.4062841374252\n",
      "transaction_cost:  349.8478056404407\n"
     ]
    }
   ],
   "source": [
    "res4 = make_result(\"real\", \"long\", \"Trigger\", \"historical\", 1, \"삼성전자\")"
   ]
  },
  {
   "cell_type": "markdown",
   "metadata": {},
   "source": [
    "### ex5) Real_Sigma_Trigger"
   ]
  },
  {
   "cell_type": "code",
   "execution_count": 28,
   "metadata": {},
   "outputs": [
    {
     "name": "stdout",
     "output_type": "stream",
     "text": [
      "final_money:  5172.222011438062\n",
      "hedging_performance:  0.0\n",
      "theoretical_edge:  533.4062841374252\n",
      "transaction_cost:  1173.2541017636681\n"
     ]
    }
   ],
   "source": [
    "res5 = make_result(\"real\", \"long\", \"Sigma_Trigger\", \"historical\", 1, \"삼성전자\")"
   ]
  },
  {
   "cell_type": "markdown",
   "metadata": {},
   "source": [
    "### ex6) Real_Sigma_Trigger_delta"
   ]
  },
  {
   "cell_type": "code",
   "execution_count": 29,
   "metadata": {},
   "outputs": [
    {
     "name": "stdout",
     "output_type": "stream",
     "text": [
      "final_money:  5196.039193848759\n",
      "hedging_performance:  0.0\n",
      "theoretical_edge:  533.4062841374252\n",
      "transaction_cost:  1160.4210630820023\n"
     ]
    }
   ],
   "source": [
    "res6 = make_result(\"real\", \"long\", \"Sigma_Trigger_delta\", \"historical\", 1, \"삼성전자\")"
   ]
  },
  {
   "cell_type": "code",
   "execution_count": null,
   "metadata": {},
   "outputs": [],
   "source": []
  },
  {
   "cell_type": "markdown",
   "metadata": {},
   "source": [
    "## Final_Real_Result (Excel 저장)  (1시간 가량 소요 , 첨부파일 참고)"
   ]
  },
  {
   "cell_type": "code",
   "execution_count": 30,
   "metadata": {},
   "outputs": [],
   "source": [
    "stock_names = ['삼성전자', '네이버', '두산중공업', '롯데칠성', 'SK네트웍스', '셀트리온헬스케어', '현대건설', '코미팜', '제주항공']"
   ]
  },
  {
   "cell_type": "code",
   "execution_count": 31,
   "metadata": {},
   "outputs": [],
   "source": [
    "long_short = [\"long\", \"short\"]"
   ]
  },
  {
   "cell_type": "code",
   "execution_count": 32,
   "metadata": {},
   "outputs": [],
   "source": [
    "vol_types = [\"historical\" , \"IV\"]"
   ]
  },
  {
   "cell_type": "code",
   "execution_count": 33,
   "metadata": {},
   "outputs": [],
   "source": [
    "strategy = [\"BSM\", \"Modified_max_gamma_ratio\", \"Momentum\", \"Trigger\", \"Sigma_Trigger\", \"Sigma_Trigger_delta\"]"
   ]
  },
  {
   "cell_type": "code",
   "execution_count": 34,
   "metadata": {
    "scrolled": false
   },
   "outputs": [
    {
     "name": "stdout",
     "output_type": "stream",
     "text": [
      "삼성전자\n",
      "네이버\n",
      "두산중공업\n",
      "롯데칠성\n",
      "SK네트웍스\n",
      "셀트리온헬스케어\n",
      "현대건설\n",
      "코미팜\n",
      "제주항공\n"
     ]
    }
   ],
   "source": [
    "final_result_real = make_final_result_real(stock_names, long_short, vol_types, strategy, \"final_result_real\")"
   ]
  },
  {
   "cell_type": "code",
   "execution_count": null,
   "metadata": {},
   "outputs": [],
   "source": []
  },
  {
   "cell_type": "code",
   "execution_count": null,
   "metadata": {},
   "outputs": [],
   "source": []
  }
 ],
 "metadata": {
  "kernelspec": {
   "display_name": "Python 3",
   "language": "python",
   "name": "python3"
  },
  "language_info": {
   "codemirror_mode": {
    "name": "ipython",
    "version": 3
   },
   "file_extension": ".py",
   "mimetype": "text/x-python",
   "name": "python",
   "nbconvert_exporter": "python",
   "pygments_lexer": "ipython3",
   "version": "3.6.5"
  }
 },
 "nbformat": 4,
 "nbformat_minor": 2
}
